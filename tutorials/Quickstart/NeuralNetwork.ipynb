{
 "cells": [
  {
   "cell_type": "markdown",
   "id": "9a5a811f-0f73-4a46-ba0f-1b3fae556622",
   "metadata": {},
   "source": [
    "# Build the Neural Network\n",
    "Neural networks comprise of layers/modules that perform operations on data. The `torch.nn` namespace provides all the building blocks you need to build your own neural network. Every module in PyTorch subclasses the `nn.Module`. A neural network is a module itself that consists of other modules (layers). This nested structure allows for building and managing complex architectures easily.\n",
    "\n",
    "神经网络由层和模块组成，每个模块都是nn.Module 的子类。PyTorch 允许通过模块的嵌套结构来构建和管理复杂的神经网络架构，从而提供了高可复用性和模块化的设计。"
   ]
  },
  {
   "cell_type": "code",
   "execution_count": 1,
   "id": "246d9c41-996e-4341-b381-b9ce944a3f4f",
   "metadata": {
    "execution": {
     "iopub.execute_input": "2024-12-11T08:42:59.167427Z",
     "iopub.status.busy": "2024-12-11T08:42:59.167013Z",
     "iopub.status.idle": "2024-12-11T08:43:02.863687Z",
     "shell.execute_reply": "2024-12-11T08:43:02.862359Z",
     "shell.execute_reply.started": "2024-12-11T08:42:59.167379Z"
    }
   },
   "outputs": [],
   "source": [
    "import os \n",
    "import torch\n",
    "from torch import nn\n",
    "from torch.utils.data import DataLoader\n",
    "from torchvision import datasets, transforms"
   ]
  },
  {
   "cell_type": "code",
   "execution_count": 2,
   "id": "c04154ac-194f-4726-bb16-7bebca4d730a",
   "metadata": {
    "execution": {
     "iopub.execute_input": "2024-12-11T08:43:02.865682Z",
     "iopub.status.busy": "2024-12-11T08:43:02.865056Z",
     "iopub.status.idle": "2024-12-11T08:43:02.872853Z",
     "shell.execute_reply": "2024-12-11T08:43:02.871796Z",
     "shell.execute_reply.started": "2024-12-11T08:43:02.865637Z"
    }
   },
   "outputs": [
    {
     "name": "stdout",
     "output_type": "stream",
     "text": [
      "使用 cpu\n"
     ]
    }
   ],
   "source": [
    "device = (\n",
    "    'cuda'\n",
    "    if torch.cuda.is_available()\n",
    "    else 'mps'\n",
    "    if torch.backends.mps.is_available()\n",
    "    else 'cpu'\n",
    ")\n",
    "print(f'使用 {device}')"
   ]
  },
  {
   "cell_type": "markdown",
   "id": "e90ad399-f61c-4bc1-8437-42f5593b3416",
   "metadata": {},
   "source": [
    "## Define the class"
   ]
  },
  {
   "cell_type": "code",
   "execution_count": 3,
   "id": "3549607a-469f-4c20-b51c-697e19ef117b",
   "metadata": {
    "execution": {
     "iopub.execute_input": "2024-12-11T08:43:02.876568Z",
     "iopub.status.busy": "2024-12-11T08:43:02.876170Z",
     "iopub.status.idle": "2024-12-11T08:43:02.885064Z",
     "shell.execute_reply": "2024-12-11T08:43:02.883898Z",
     "shell.execute_reply.started": "2024-12-11T08:43:02.876526Z"
    }
   },
   "outputs": [],
   "source": [
    "class NeuralNetwork(nn.Module):\n",
    "    def __init__(self):\n",
    "        super().__init__()\n",
    "        self.flatten = nn.Flatten()\n",
    "        self.linear_relu_stack = nn.Sequential(\n",
    "            nn.Linear(28*28, 512),\n",
    "            nn.ReLU(),\n",
    "            nn.Linear(512, 512),\n",
    "            nn.ReLU(),\n",
    "            nn.Linear(512, 10)\n",
    "        )\n",
    "\n",
    "    def forward(self, x):\n",
    "        x = self.flatten(x)\n",
    "        logits = self.linear_relu_stack(x)\n",
    "        return logits"
   ]
  },
  {
   "cell_type": "code",
   "execution_count": 4,
   "id": "44c0a9d9-fc41-4ee2-9ac8-e9372fa15397",
   "metadata": {
    "execution": {
     "iopub.execute_input": "2024-12-11T08:43:02.886645Z",
     "iopub.status.busy": "2024-12-11T08:43:02.886203Z",
     "iopub.status.idle": "2024-12-11T08:43:02.919796Z",
     "shell.execute_reply": "2024-12-11T08:43:02.918631Z",
     "shell.execute_reply.started": "2024-12-11T08:43:02.886603Z"
    }
   },
   "outputs": [
    {
     "name": "stdout",
     "output_type": "stream",
     "text": [
      "NeuralNetwork(\n",
      "  (flatten): Flatten(start_dim=1, end_dim=-1)\n",
      "  (linear_relu_stack): Sequential(\n",
      "    (0): Linear(in_features=784, out_features=512, bias=True)\n",
      "    (1): ReLU()\n",
      "    (2): Linear(in_features=512, out_features=512, bias=True)\n",
      "    (3): ReLU()\n",
      "    (4): Linear(in_features=512, out_features=10, bias=True)\n",
      "  )\n",
      ")\n"
     ]
    }
   ],
   "source": [
    "model = NeuralNetwork().to(device)\n",
    "print(model)"
   ]
  },
  {
   "cell_type": "code",
   "execution_count": 5,
   "id": "26a07061-63e9-4433-bc98-f89276b250ad",
   "metadata": {
    "execution": {
     "iopub.execute_input": "2024-12-11T08:43:02.921462Z",
     "iopub.status.busy": "2024-12-11T08:43:02.920996Z",
     "iopub.status.idle": "2024-12-11T08:43:02.935574Z",
     "shell.execute_reply": "2024-12-11T08:43:02.934456Z",
     "shell.execute_reply.started": "2024-12-11T08:43:02.921420Z"
    }
   },
   "outputs": [
    {
     "name": "stdout",
     "output_type": "stream",
     "text": [
      "预测: tensor([5])\n"
     ]
    }
   ],
   "source": [
    "X = torch.rand(1, 28, 28, device=device)\n",
    "logits = model(X)\n",
    "pred_probab = nn.Softmax(dim=1)(logits) # 将分数转变为概率\n",
    "y_pred = pred_probab.argmax(1) # 在第 1 个维度寻找最大值的索引\n",
    "print(f'预测: {y_pred}')"
   ]
  },
  {
   "cell_type": "code",
   "execution_count": 6,
   "id": "8e2246fa-8e4e-477f-98bd-ad739a1e5bbc",
   "metadata": {
    "execution": {
     "iopub.execute_input": "2024-12-11T08:43:02.937114Z",
     "iopub.status.busy": "2024-12-11T08:43:02.936736Z",
     "iopub.status.idle": "2024-12-11T08:43:02.945613Z",
     "shell.execute_reply": "2024-12-11T08:43:02.944473Z",
     "shell.execute_reply.started": "2024-12-11T08:43:02.937072Z"
    }
   },
   "outputs": [
    {
     "name": "stdout",
     "output_type": "stream",
     "text": [
      "tensor([[ 0.0482, -0.0345,  0.0120, -0.0160, -0.0301,  0.1236, -0.0007,  0.0507,\n",
      "         -0.0140, -0.0276]], grad_fn=<AddmmBackward0>)\n",
      "tensor([[0.1037, 0.0954, 0.1000, 0.0972, 0.0959, 0.1118, 0.0987, 0.1039, 0.0974,\n",
      "         0.0961]], grad_fn=<SoftmaxBackward0>)\n"
     ]
    }
   ],
   "source": [
    "print(logits)\n",
    "print(pred_probab)"
   ]
  },
  {
   "cell_type": "markdown",
   "id": "c9daf201-f164-4a71-938c-0af2bb5a20f2",
   "metadata": {},
   "source": [
    "---\n",
    "## Model Layers"
   ]
  },
  {
   "cell_type": "code",
   "execution_count": 7,
   "id": "09293b3a-dec9-4055-9dbb-5b38341f931b",
   "metadata": {
    "execution": {
     "iopub.execute_input": "2024-12-11T08:43:02.947267Z",
     "iopub.status.busy": "2024-12-11T08:43:02.946805Z",
     "iopub.status.idle": "2024-12-11T08:43:02.953596Z",
     "shell.execute_reply": "2024-12-11T08:43:02.952514Z",
     "shell.execute_reply.started": "2024-12-11T08:43:02.947225Z"
    }
   },
   "outputs": [
    {
     "name": "stdout",
     "output_type": "stream",
     "text": [
      "torch.Size([3, 28, 28])\n"
     ]
    }
   ],
   "source": [
    "input_image = torch.rand(3,28,28)\n",
    "print(input_image.size())"
   ]
  },
  {
   "cell_type": "markdown",
   "id": "3e91e0df-e1cf-4732-b5fd-476128231285",
   "metadata": {},
   "source": [
    "### nn.Flatten\n",
    "常用与图像识别中，将二维的图像转换为 一维的张量"
   ]
  },
  {
   "cell_type": "code",
   "execution_count": 8,
   "id": "7aa30b42-a9bb-4b5e-978d-302fa21adc53",
   "metadata": {
    "execution": {
     "iopub.execute_input": "2024-12-11T08:43:02.955213Z",
     "iopub.status.busy": "2024-12-11T08:43:02.954748Z",
     "iopub.status.idle": "2024-12-11T08:43:02.962042Z",
     "shell.execute_reply": "2024-12-11T08:43:02.960595Z",
     "shell.execute_reply.started": "2024-12-11T08:43:02.955170Z"
    }
   },
   "outputs": [
    {
     "name": "stdout",
     "output_type": "stream",
     "text": [
      "torch.Size([3, 784])\n"
     ]
    }
   ],
   "source": [
    "flatten = nn.Flatten()\n",
    "flat_image = flatten(input_image)\n",
    "print(flat_image.size())"
   ]
  },
  {
   "cell_type": "markdown",
   "id": "c1bb2031-179a-439f-b92d-a91e16aad3ff",
   "metadata": {},
   "source": [
    "### nn.Linear\n",
    "线性层，也叫全连接层，主要用于维度的变换，包括数据的升维和降维"
   ]
  },
  {
   "cell_type": "code",
   "execution_count": 9,
   "id": "3dae02ce-273a-40d8-a00b-99d115d0b6e0",
   "metadata": {
    "execution": {
     "iopub.execute_input": "2024-12-11T08:43:02.963769Z",
     "iopub.status.busy": "2024-12-11T08:43:02.963322Z",
     "iopub.status.idle": "2024-12-11T08:43:02.971077Z",
     "shell.execute_reply": "2024-12-11T08:43:02.969960Z",
     "shell.execute_reply.started": "2024-12-11T08:43:02.963727Z"
    }
   },
   "outputs": [
    {
     "name": "stdout",
     "output_type": "stream",
     "text": [
      "torch.Size([3, 20])\n"
     ]
    }
   ],
   "source": [
    "layer1 = nn.Linear(in_features=28*28, out_features=20)\n",
    "hidden1 = layer1(flat_image)\n",
    "print(hidden1.size())"
   ]
  },
  {
   "cell_type": "markdown",
   "id": "1d64c84d-a06c-44e6-a3f8-3b2b186cb5d5",
   "metadata": {},
   "source": [
    "### nn.ReLU\n",
    "[link](https://pytorch.org/docs/stable/generated/torch.nn.ReLU.html)\n",
    "> torch.nn.ReLU(inplace=False)\n",
    "\n",
    "$$\n",
    "ReLU(x) = (x)^{+} = max(0,x)\n",
    "$$\n",
    "![](https://pytorch.org/docs/stable/_images/ReLU.png)"
   ]
  },
  {
   "cell_type": "code",
   "execution_count": 10,
   "id": "6db5e0b9-d12a-44d4-a38f-539b7e3562eb",
   "metadata": {
    "execution": {
     "iopub.execute_input": "2024-12-11T08:43:02.972685Z",
     "iopub.status.busy": "2024-12-11T08:43:02.972237Z",
     "iopub.status.idle": "2024-12-11T08:43:02.982379Z",
     "shell.execute_reply": "2024-12-11T08:43:02.981210Z",
     "shell.execute_reply.started": "2024-12-11T08:43:02.972642Z"
    }
   },
   "outputs": [
    {
     "name": "stdout",
     "output_type": "stream",
     "text": [
      "ReLU 之前: tensor([[-0.3114,  0.2477,  0.1777, -0.3673,  0.3306,  0.7543, -0.3078, -0.0452,\n",
      "          0.3987, -0.0351, -0.3997, -0.4820, -0.5678,  0.1690,  0.1324, -0.0691,\n",
      "         -0.3324, -0.2247,  0.6033, -0.3391],\n",
      "        [-0.4664,  0.1928,  0.1604, -0.4897,  0.1591,  0.8991, -0.2854,  0.0924,\n",
      "          0.3407, -0.1260, -0.1425, -0.0817, -0.5721,  0.0176,  0.2367, -0.0274,\n",
      "         -0.5785,  0.0199,  0.4283, -0.3838],\n",
      "        [-0.0454,  0.1482,  0.1695, -0.1130,  0.2978,  0.9596, -0.3010, -0.1943,\n",
      "          0.4031,  0.1211, -0.1663, -0.5490, -0.4800,  0.1672,  0.1655, -0.0535,\n",
      "         -0.3592,  0.0292,  0.3593, -0.1802]], grad_fn=<AddmmBackward0>)\n",
      "\n",
      "\n",
      "ReLU 之后: tensor([[0.0000, 0.2477, 0.1777, 0.0000, 0.3306, 0.7543, 0.0000, 0.0000, 0.3987,\n",
      "         0.0000, 0.0000, 0.0000, 0.0000, 0.1690, 0.1324, 0.0000, 0.0000, 0.0000,\n",
      "         0.6033, 0.0000],\n",
      "        [0.0000, 0.1928, 0.1604, 0.0000, 0.1591, 0.8991, 0.0000, 0.0924, 0.3407,\n",
      "         0.0000, 0.0000, 0.0000, 0.0000, 0.0176, 0.2367, 0.0000, 0.0000, 0.0199,\n",
      "         0.4283, 0.0000],\n",
      "        [0.0000, 0.1482, 0.1695, 0.0000, 0.2978, 0.9596, 0.0000, 0.0000, 0.4031,\n",
      "         0.1211, 0.0000, 0.0000, 0.0000, 0.1672, 0.1655, 0.0000, 0.0000, 0.0292,\n",
      "         0.3593, 0.0000]], grad_fn=<ReluBackward0>)\n"
     ]
    }
   ],
   "source": [
    "print(f'ReLU 之前: {hidden1}\\n\\n')\n",
    "hidden1 = nn.ReLU()(hidden1)\n",
    "print(f'ReLU 之后: {hidden1}')"
   ]
  },
  {
   "cell_type": "markdown",
   "id": "594b3f8c-7c90-499d-a26b-b1ac21f4d7fd",
   "metadata": {},
   "source": [
    "### nn.Sequential\n",
    "可以看作是一个有序的容器，包含需要添加的模块"
   ]
  },
  {
   "cell_type": "code",
   "execution_count": 11,
   "id": "c609a3f8-ee0c-4783-8bc8-858d39c3c6a6",
   "metadata": {
    "execution": {
     "iopub.execute_input": "2024-12-11T08:43:02.983981Z",
     "iopub.status.busy": "2024-12-11T08:43:02.983536Z",
     "iopub.status.idle": "2024-12-11T08:43:02.993126Z",
     "shell.execute_reply": "2024-12-11T08:43:02.991945Z",
     "shell.execute_reply.started": "2024-12-11T08:43:02.983939Z"
    }
   },
   "outputs": [
    {
     "name": "stdout",
     "output_type": "stream",
     "text": [
      "tensor([[ 0.1635,  0.2807, -0.3064, -0.2311, -0.0735,  0.2493, -0.1902,  0.1324,\n",
      "         -0.4660,  0.2927],\n",
      "        [ 0.0198,  0.0293, -0.1512, -0.1142, -0.1153,  0.2867, -0.3429,  0.2757,\n",
      "         -0.5296,  0.3000],\n",
      "        [ 0.1398,  0.2112, -0.2424, -0.2588, -0.1130,  0.3798, -0.2369,  0.1930,\n",
      "         -0.5710,  0.3254]], grad_fn=<AddmmBackward0>)\n"
     ]
    }
   ],
   "source": [
    "seq_modules = nn.Sequential(\n",
    "    flatten,\n",
    "    layer1,\n",
    "    nn.ReLU(),\n",
    "    nn.Linear(20,10)\n",
    ")\n",
    "input_image = torch.rand(3,28,28)\n",
    "logits = seq_modules(input_image)\n",
    "print(logits)"
   ]
  },
  {
   "cell_type": "markdown",
   "id": "175f7a01-e093-44bd-afcc-b6c718b75d2d",
   "metadata": {},
   "source": [
    "### nn.Softmax\n",
    "> torch.nn.Softmax(dim=None)\n",
    "\n",
    "将数据缩放到\\[0,1\\]的区间，并且，使得总和为 1\n",
    "\n",
    "$$\n",
    "Softmax(x_i) = \\frac{exp(x_i)}{\\sum_j exp(x_j)}\n",
    "$$\n"
   ]
  },
  {
   "cell_type": "code",
   "execution_count": 12,
   "id": "b18c9272-7ec5-4686-a5b2-86eb51a59e90",
   "metadata": {
    "execution": {
     "iopub.execute_input": "2024-12-11T08:43:02.997419Z",
     "iopub.status.busy": "2024-12-11T08:43:02.996939Z",
     "iopub.status.idle": "2024-12-11T08:43:03.007494Z",
     "shell.execute_reply": "2024-12-11T08:43:03.006298Z",
     "shell.execute_reply.started": "2024-12-11T08:43:02.997379Z"
    }
   },
   "outputs": [
    {
     "name": "stdout",
     "output_type": "stream",
     "text": [
      "tensor([[0.1157, 0.1301, 0.0723, 0.0780, 0.0913, 0.1260, 0.0812, 0.1121, 0.0616,\n",
      "         0.1316],\n",
      "        [0.1021, 0.1031, 0.0860, 0.0893, 0.0892, 0.1333, 0.0710, 0.1319, 0.0589,\n",
      "         0.1351],\n",
      "        [0.1122, 0.1205, 0.0766, 0.0753, 0.0872, 0.1427, 0.0770, 0.1183, 0.0551,\n",
      "         0.1351]], grad_fn=<SoftmaxBackward0>)\n",
      "tensor(1.0000, grad_fn=<AddBackward0>)\n"
     ]
    }
   ],
   "source": [
    "softmax = nn.Softmax(dim=1)\n",
    "pred_probab = softmax(logits)\n",
    "print(pred_probab)\n",
    "print(sum(pred_probab[0]))"
   ]
  },
  {
   "cell_type": "markdown",
   "id": "80b87ac5-d094-4610-9c5f-61835975c39f",
   "metadata": {},
   "source": [
    "## Model Parameters"
   ]
  },
  {
   "cell_type": "code",
   "execution_count": 13,
   "id": "a3c4ca03-5954-42d8-be4f-dfc930a4eda6",
   "metadata": {
    "execution": {
     "iopub.execute_input": "2024-12-11T08:43:03.009219Z",
     "iopub.status.busy": "2024-12-11T08:43:03.008751Z",
     "iopub.status.idle": "2024-12-11T08:43:03.021494Z",
     "shell.execute_reply": "2024-12-11T08:43:03.020307Z",
     "shell.execute_reply.started": "2024-12-11T08:43:03.009176Z"
    }
   },
   "outputs": [
    {
     "name": "stdout",
     "output_type": "stream",
     "text": [
      "模型的结构: NeuralNetwork(\n",
      "  (flatten): Flatten(start_dim=1, end_dim=-1)\n",
      "  (linear_relu_stack): Sequential(\n",
      "    (0): Linear(in_features=784, out_features=512, bias=True)\n",
      "    (1): ReLU()\n",
      "    (2): Linear(in_features=512, out_features=512, bias=True)\n",
      "    (3): ReLU()\n",
      "    (4): Linear(in_features=512, out_features=10, bias=True)\n",
      "  )\n",
      ")\n",
      "\n",
      "\n",
      "层: linear_relu_stack.0.weight | 大小: torch.Size([512, 784]) | 值: tensor([[ 0.0338, -0.0293, -0.0277,  ...,  0.0012,  0.0050,  0.0010],\n",
      "        [-0.0065,  0.0264, -0.0259,  ..., -0.0356,  0.0262, -0.0277]],\n",
      "       grad_fn=<SliceBackward0>) \n",
      "\n",
      "层: linear_relu_stack.0.bias | 大小: torch.Size([512]) | 值: tensor([ 0.0089, -0.0085], grad_fn=<SliceBackward0>) \n",
      "\n",
      "层: linear_relu_stack.2.weight | 大小: torch.Size([512, 512]) | 值: tensor([[ 0.0146, -0.0281, -0.0083,  ...,  0.0273,  0.0146,  0.0284],\n",
      "        [ 0.0075,  0.0313,  0.0363,  ...,  0.0395,  0.0254,  0.0371]],\n",
      "       grad_fn=<SliceBackward0>) \n",
      "\n",
      "层: linear_relu_stack.2.bias | 大小: torch.Size([512]) | 值: tensor([ 0.0418, -0.0360], grad_fn=<SliceBackward0>) \n",
      "\n",
      "层: linear_relu_stack.4.weight | 大小: torch.Size([10, 512]) | 值: tensor([[-0.0065,  0.0213,  0.0359,  ..., -0.0178,  0.0407, -0.0286],\n",
      "        [-0.0014,  0.0260,  0.0071,  ...,  0.0190,  0.0190,  0.0147]],\n",
      "       grad_fn=<SliceBackward0>) \n",
      "\n",
      "层: linear_relu_stack.4.bias | 大小: torch.Size([10]) | 值: tensor([ 0.0385, -0.0308], grad_fn=<SliceBackward0>) \n",
      "\n"
     ]
    }
   ],
   "source": [
    "print(f'模型的结构: {model}\\n\\n')\n",
    "\n",
    "for name, param in model.named_parameters():\n",
    "    print(f'层: {name} | 大小: {param.size()} | 值: {param[:2]} \\n')"
   ]
  }
 ],
 "metadata": {
  "kernelspec": {
   "display_name": "Python 3 (ipykernel)",
   "language": "python",
   "name": "python3"
  },
  "language_info": {
   "codemirror_mode": {
    "name": "ipython",
    "version": 3
   },
   "file_extension": ".py",
   "mimetype": "text/x-python",
   "name": "python",
   "nbconvert_exporter": "python",
   "pygments_lexer": "ipython3",
   "version": "3.8.10"
  }
 },
 "nbformat": 4,
 "nbformat_minor": 5
}
