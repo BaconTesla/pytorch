{
 "cells": [
  {
   "cell_type": "markdown",
   "id": "50359b0a-3906-4058-89b0-fab8e9dbe96f",
   "metadata": {},
   "source": [
    "## Working with data\n",
    "\n",
    "PyTorch has two primitives to work with data: `torch.utils.data.DataLoader` and `torch.utils.data.Dataset`. `Dataset` stores the samples and their corresponding labels, and `DataLoader` wraps an iterable around the Dataset.\n",
    "\n",
    "- `Dataset` 比作是**图书馆的书架**，里面每一本书（样本）都有自己的编号（索引）和标签（类别）\n",
    "- `DataLoader` 比作**图书馆的书车**，每次从书架（Dataset）中取出一批书（batch）并交给你。\n",
    "\n",
    "总结：\n",
    "- Dataset：定义和存储数据，包含所有的样本及其标签。\n",
    "- DataLoader：批量加载数据，支持多线程并行加载和数据随机化。"
   ]
  },
  {
   "cell_type": "code",
   "execution_count": 1,
   "id": "a25f7bf2-7b9a-47c0-9580-d62d98a7a82b",
   "metadata": {
    "execution": {
     "iopub.execute_input": "2024-12-11T01:25:44.896989Z",
     "iopub.status.busy": "2024-12-11T01:25:44.896274Z",
     "iopub.status.idle": "2024-12-11T01:25:48.579747Z",
     "shell.execute_reply": "2024-12-11T01:25:48.578375Z",
     "shell.execute_reply.started": "2024-12-11T01:25:44.896943Z"
    }
   },
   "outputs": [],
   "source": [
    "import torch\n",
    "from torch import nn\n",
    "from torch.utils.data import DataLoader\n",
    "from torchvision import datasets\n",
    "from torchvision.transforms import ToTensor"
   ]
  },
  {
   "cell_type": "markdown",
   "id": "84cde14f-03f7-4320-bf42-360aff91bfe8",
   "metadata": {},
   "source": [
    "The `torchvision.datasets` module contains `Dataset` objects for many real-world vision data like CIFAR, COCO ([full list here](https://pytorch.org/vision/stable/datasets.html)). In this tutorial, we use the FashionMNIST dataset. Every TorchVision `Dataset` includes two arguments: `transform` and `target_transform` to modify the samples and labels respectively.\n",
    "\n",
    "`torchvision.datasets`中包含许多来自现实世界中的数据，这里使用一个名为 **FashionMNIST**的数据集，其中包含 2 个参数\n",
    "\n",
    "- transform 用于修改数据集中的样本\n",
    "- target_transform 用于修改标签"
   ]
  },
  {
   "cell_type": "code",
   "execution_count": 2,
   "id": "829a9e91-3a98-4250-9ebe-1e0ce0f57ffa",
   "metadata": {
    "execution": {
     "iopub.execute_input": "2024-12-11T01:25:48.581594Z",
     "iopub.status.busy": "2024-12-11T01:25:48.581039Z",
     "iopub.status.idle": "2024-12-11T01:26:09.929367Z",
     "shell.execute_reply": "2024-12-11T01:26:09.927875Z",
     "shell.execute_reply.started": "2024-12-11T01:25:48.581536Z"
    }
   },
   "outputs": [
    {
     "name": "stdout",
     "output_type": "stream",
     "text": [
      "Downloading http://fashion-mnist.s3-website.eu-central-1.amazonaws.com/train-images-idx3-ubyte.gz\n",
      "Downloading http://fashion-mnist.s3-website.eu-central-1.amazonaws.com/train-images-idx3-ubyte.gz to data/FashionMNIST/raw/train-images-idx3-ubyte.gz\n"
     ]
    },
    {
     "name": "stderr",
     "output_type": "stream",
     "text": [
      "\n",
      "00%|█████████████████████████████████████████████████████████████████████████████████████████████████████████████████████████████████████████████| 26421880/26421880 [00:16<00:00, 1585958.72it/s]"
     ]
    },
    {
     "name": "stdout",
     "output_type": "stream",
     "text": [
      "Extracting data/FashionMNIST/raw/train-images-idx3-ubyte.gz to data/FashionMNIST/raw\n",
      "\n",
      "Downloading http://fashion-mnist.s3-website.eu-central-1.amazonaws.com/train-labels-idx1-ubyte.gz\n",
      "Downloading http://202.120.161.162/cache/12/02/fashion-mnist.s3-website.eu-central-1.amazonaws.com/0044051af8c06cfbe7d405eee650335e/train-labels-idx1-ubyte.gz to data/FashionMNIST/raw/train-labels-idx1-ubyte.gz\n"
     ]
    },
    {
     "name": "stderr",
     "output_type": "stream",
     "text": [
      "100%|██████████████████████████████████████████████████████████████████████████████████████████████████████████████████████████████████████████████████| 29515/29515 [00:00<00:00, 30334448.07it/s]"
     ]
    },
    {
     "name": "stdout",
     "output_type": "stream",
     "text": [
      "Extracting data/FashionMNIST/raw/train-labels-idx1-ubyte.gz to data/FashionMNIST/raw\n",
      "\n",
      "Downloading http://fashion-mnist.s3-website.eu-central-1.amazonaws.com/t10k-images-idx3-ubyte.gz\n"
     ]
    },
    {
     "name": "stderr",
     "output_type": "stream",
     "text": [
      "\n"
     ]
    },
    {
     "name": "stdout",
     "output_type": "stream",
     "text": [
      "Downloading http://202.120.161.162/cache/1/02/fashion-mnist.s3-website.eu-central-1.amazonaws.com/246c3e6b3ab8ed75eaf255fca08a2807/t10k-images-idx3-ubyte.gz to data/FashionMNIST/raw/t10k-images-idx3-ubyte.gz\n"
     ]
    },
    {
     "name": "stderr",
     "output_type": "stream",
     "text": [
      "\n",
      "00%|██████████████████████████████████████████████████████████████████████████████████████████████████████████████████████████████████████████████| 4422102/4422102 [00:00<00:00, 11399502.36it/s]"
     ]
    },
    {
     "name": "stdout",
     "output_type": "stream",
     "text": [
      "Extracting data/FashionMNIST/raw/t10k-images-idx3-ubyte.gz to data/FashionMNIST/raw\n",
      "\n",
      "Downloading http://fashion-mnist.s3-website.eu-central-1.amazonaws.com/t10k-labels-idx1-ubyte.gz\n",
      "Downloading http://fashion-mnist.s3-website.eu-central-1.amazonaws.com/t10k-labels-idx1-ubyte.gz to data/FashionMNIST/raw/t10k-labels-idx1-ubyte.gz\n"
     ]
    },
    {
     "name": "stderr",
     "output_type": "stream",
     "text": [
      "100%|█████████████████████████████████████████████████████████████████████████████████████████████████████████████████████████████████████████████████████| 5148/5148 [00:00<00:00, 4119877.31it/s]"
     ]
    },
    {
     "name": "stdout",
     "output_type": "stream",
     "text": [
      "Extracting data/FashionMNIST/raw/t10k-labels-idx1-ubyte.gz to data/FashionMNIST/raw\n",
      "\n"
     ]
    },
    {
     "name": "stderr",
     "output_type": "stream",
     "text": [
      "\n"
     ]
    }
   ],
   "source": [
    "# 从公开数据集中下载训练数据\n",
    "training_data = datasets.FashionMNIST(\n",
    "    root='data',\n",
    "    train=True,\n",
    "    download=True,\n",
    "    transform=ToTensor(),\n",
    ")\n",
    "\n",
    "# 从公开数据集中下载测试数据集\n",
    "test_data = datasets.FashionMNIST(\n",
    "    root='data',\n",
    "    train=False,\n",
    "    download=True,\n",
    "    transform=ToTensor()\n",
    ")"
   ]
  },
  {
   "cell_type": "markdown",
   "id": "2b35d0a6-1a11-4870-802f-9613e5d06cd0",
   "metadata": {},
   "source": [
    "Fashion-MNIST 数据集包含的是影像数据，其中有 60,000 个训练集和 10,000个测试集，每一个样本都是由一张 28x28 像素的灰度图片以及一个标签组成。\n",
    "\n",
    "- root=\"data\"：数据集的存储位置，下载的文件会存放在 data/ 文件夹中。\n",
    "- train=True：指定加载的是训练集。\n",
    "- download=True：如果本地的 data/ 目录中不存在 FashionMNIST 数据集，则自动从互联网下载。\n",
    "- transform=ToTensor()：在加载图像时，将其从PIL图像转换为PyTorch张量，并将像素值从[0, 255]缩放到[0, 1]。"
   ]
  },
  {
   "cell_type": "markdown",
   "id": "a1989d16-45b1-4afe-a019-c46a33eca095",
   "metadata": {},
   "source": [
    "We pass the `Dataset` as an argument to `DataLoader`. This wraps an iterable over our dataset, and supports automatic batching, sampling, shuffling and multiprocess data loading. Here we define a batch size of 64, i.e. each element in the dataloader iterable will return a batch of 64 features and labels.\n",
    "\n",
    "将 Dataset 传递给 DataLoader，对数据完成自动批次化、采样，洗牌等"
   ]
  },
  {
   "cell_type": "code",
   "execution_count": 3,
   "id": "dffcf562-4311-4ae1-a00d-3abc7d2ec75e",
   "metadata": {
    "execution": {
     "iopub.execute_input": "2024-12-11T01:26:09.934933Z",
     "iopub.status.busy": "2024-12-11T01:26:09.934211Z",
     "iopub.status.idle": "2024-12-11T01:26:09.966679Z",
     "shell.execute_reply": "2024-12-11T01:26:09.965413Z",
     "shell.execute_reply.started": "2024-12-11T01:26:09.934875Z"
    }
   },
   "outputs": [
    {
     "name": "stdout",
     "output_type": "stream",
     "text": [
      "X 的形状为: torch.Size([64, 1, 28, 28])\n",
      "y 的形状为: torch.Size([64]) torch.int64\n"
     ]
    }
   ],
   "source": [
    "batch_size = 64\n",
    "\n",
    "# 创建 data loader\n",
    "train_dataloader = DataLoader(training_data, batch_size = batch_size)\n",
    "test_dataloader = DataLoader(test_data, batch_size = batch_size)\n",
    "\n",
    "for X, y in test_dataloader:\n",
    "    print(f'X 的形状为: {X.shape}')\n",
    "    print(f'y 的形状为: {y.shape} {y.dtype}')\n",
    "    break"
   ]
  },
  {
   "cell_type": "markdown",
   "id": "03826943-f655-4a9d-8beb-021da0dbc9b6",
   "metadata": {},
   "source": [
    "---\n",
    "## Creating Models\n",
    "To define a neural network in PyTorch, we create a class that inherits from nn.Module. We define the layers of the network in the `__init__` function and specify how data will pass through the network in the `forward` function. To accelerate operations in the neural network, we move it to the GPU or MPS if available.\n",
    "\n",
    "为了定义一个神经网络，在此创建一个继承nn.Module的类。在这个类中，通过__init__函数定义神经网络的层，并且定义forward 函数来告诉数据如何在网络中传递。\n",
    "\n",
    "学习如何构建神经网络，[link](https://pytorch.org/tutorials/beginner/basics/buildmodel_tutorial.html)"
   ]
  },
  {
   "cell_type": "code",
   "execution_count": 4,
   "id": "55dd3494-a733-4a22-8f53-4ec1a58aad90",
   "metadata": {
    "execution": {
     "iopub.execute_input": "2024-12-11T01:26:09.968318Z",
     "iopub.status.busy": "2024-12-11T01:26:09.967939Z",
     "iopub.status.idle": "2024-12-11T01:26:09.994782Z",
     "shell.execute_reply": "2024-12-11T01:26:09.993650Z",
     "shell.execute_reply.started": "2024-12-11T01:26:09.968277Z"
    }
   },
   "outputs": [
    {
     "name": "stdout",
     "output_type": "stream",
     "text": [
      "可使用 cpu 设备！\n",
      "NeuralNetwork(\n",
      "  (flatten): Flatten(start_dim=1, end_dim=-1)\n",
      "  (linear_relu_stack): Sequential(\n",
      "    (0): Linear(in_features=784, out_features=512, bias=True)\n",
      "    (1): ReLU()\n",
      "    (2): Linear(in_features=512, out_features=512, bias=True)\n",
      "    (3): ReLU()\n",
      "    (4): Linear(in_features=512, out_features=10, bias=True)\n",
      "  )\n",
      ")\n"
     ]
    }
   ],
   "source": [
    "# 创建模型\n",
    "# 确定使用的是什么设备，cpu gpu 还是 mps，用于确定哪些设备可以用来加速运算\n",
    "device = (\n",
    "    'cuda'\n",
    "    if torch.cuda.is_available()\n",
    "    else 'mps'\n",
    "    if torch.backends.mps.is_available()\n",
    "    else 'cpu'\n",
    ")\n",
    "print(f'可使用 {device} 设备！')\n",
    "\n",
    "# 定义模型\n",
    "class NeuralNetwork(nn.Module):\n",
    "    def __init__(self):\n",
    "        super().__init__() # 确保 PyTorch 正确初始化了 nn.Module 的内部结构\n",
    "        self.flatten = nn.Flatten()\n",
    "        self.linear_relu_stack = nn.Sequential(\n",
    "            nn.Linear(28*28, 512),\n",
    "            nn.ReLU(),\n",
    "            nn.Linear(512, 512),\n",
    "            nn.ReLU(),\n",
    "            nn.Linear(512, 10)\n",
    "        )\n",
    "    def forward(self, x):\n",
    "        x = self.flatten(x)\n",
    "        logits = self.linear_relu_stack(x)\n",
    "        return logits\n",
    "\n",
    "model = NeuralNetwork().to(device)\n",
    "print(model)"
   ]
  },
  {
   "cell_type": "markdown",
   "id": "705da642-1894-4670-af22-b4a8edf5ca52",
   "metadata": {},
   "source": [
    "## Optimizing the Model Parameters\n",
    "为了训练模型，需要一个[损失函数](https://pytorch.org/docs/stable/nn.html#loss-functions)和一个[优化器](https://pytorch.org/docs/stable/optim.html)"
   ]
  },
  {
   "cell_type": "code",
   "execution_count": 5,
   "id": "44da934d-7cdf-4cfa-9487-35997d662625",
   "metadata": {
    "execution": {
     "iopub.execute_input": "2024-12-11T01:26:09.996343Z",
     "iopub.status.busy": "2024-12-11T01:26:09.995962Z",
     "iopub.status.idle": "2024-12-11T01:26:10.002469Z",
     "shell.execute_reply": "2024-12-11T01:26:10.001238Z",
     "shell.execute_reply.started": "2024-12-11T01:26:09.996301Z"
    }
   },
   "outputs": [],
   "source": [
    "loss_fn = nn.CrossEntropyLoss()\n",
    "optimizer = torch.optim.SGD(model.parameters(), lr=1e-3)"
   ]
  },
  {
   "cell_type": "markdown",
   "id": "5526efbb-97e0-44ce-aeb2-2786aafe7087",
   "metadata": {},
   "source": [
    "在单次训练过程（epoch）中，模型会在训练数据集上做出预测，并反向转播预测误差用于调整模型的参数"
   ]
  },
  {
   "cell_type": "code",
   "execution_count": 6,
   "id": "7f4f0f0d-432d-4dce-ad3c-ec7f16268dd9",
   "metadata": {
    "execution": {
     "iopub.execute_input": "2024-12-11T01:26:10.004341Z",
     "iopub.status.busy": "2024-12-11T01:26:10.003829Z",
     "iopub.status.idle": "2024-12-11T01:26:10.015542Z",
     "shell.execute_reply": "2024-12-11T01:26:10.014328Z",
     "shell.execute_reply.started": "2024-12-11T01:26:10.004293Z"
    }
   },
   "outputs": [],
   "source": [
    "def train(dataloader, model, loss_fn, optimizer):\n",
    "    size = len(dataloader.dataset)\n",
    "    model.train() # 将模型设置为训练模式，启动 dropout 和 batch normalization\n",
    "    for batch, (X, y) in enumerate(dataloader): # 遍历每个批次的输入数据 X 和对应的标签 y\n",
    "        X, y = X.to(device), y.to(device) # 将数据转移到相应的设备上，主要用于显卡加速训练\n",
    "\n",
    "        # 计算预测误差\n",
    "        pred = model(X) # 前向传播，模型对 X 的预测\n",
    "        loss = loss_fn(pred, y) # 计算预测值和真实标签之间的损失\n",
    "\n",
    "        # 反向传播\n",
    "        loss.backward() # 计算损失函数对模型参数的梯度\n",
    "        optimizer.step() # 使用优化器更新模型的参数\n",
    "        optimizer.zero_grad() # 清除优化器中的梯度，否则梯度会累积\n",
    "\n",
    "        if batch % 100 == 0: # 每 100 个批次，打印一次训练状态\n",
    "            loss, current = loss.item(), (batch + 1) * len(X)\n",
    "            print(f'损失: {loss:>7f} [{current:>5d}/{size:>5d}]')"
   ]
  },
  {
   "cell_type": "markdown",
   "id": "57f6fa34-5695-4985-b445-c55564e951f4",
   "metadata": {},
   "source": [
    "接下来在测试数据集上检测模型的性能，来判断模型是不是正在学习"
   ]
  },
  {
   "cell_type": "code",
   "execution_count": 7,
   "id": "6f3233ca-3784-4168-a51a-69bc20debdf2",
   "metadata": {
    "execution": {
     "iopub.execute_input": "2024-12-11T01:26:10.017112Z",
     "iopub.status.busy": "2024-12-11T01:26:10.016729Z",
     "iopub.status.idle": "2024-12-11T01:26:10.028122Z",
     "shell.execute_reply": "2024-12-11T01:26:10.026692Z",
     "shell.execute_reply.started": "2024-12-11T01:26:10.017070Z"
    }
   },
   "outputs": [],
   "source": [
    "def test(dataloader, model, loss_fn): # 测试函数相比于训练函数少了一个优化器\n",
    "    size = len(dataloader.dataset) # 测试集的样本总量\n",
    "    num_batches = len(dataloader) # 总的批次数量\n",
    "    model.eval() # 将模型设置为“评估模式”\n",
    "    test_loss, correct = 0, 0 # 初始化测试损失和正确预测的数量\n",
    "    with torch.no_grad(): # 禁用梯度跟踪，测试过程不需要反向传播和梯度计算\n",
    "        for X, y in dataloader:\n",
    "            X, y = X.to(device), y.to(device) # 将数据加载到设备上\n",
    "            pred = model(X) # 前向传播，使用模型预测 X 的结果\n",
    "            test_loss += loss_fn(pred, y).item() # 计算批次的损失 并进行批次间的损失累加\n",
    "            correct += (pred.argmax(1) == y).type(torch.float).sum().item() # 求得正确预测的样本数量\n",
    "    test_loss /= num_batches # 计算平均损失\n",
    "    correct /= size # 计算准确率\n",
    "    print(f'测试错误: \\n 准确度: {(100*correct):>0.1f}%, 平均损失: {test_loss:>8f}\\n')"
   ]
  },
  {
   "cell_type": "markdown",
   "id": "90dd0380-13fb-444d-bfe5-c315b02293e9",
   "metadata": {
    "execution": {
     "iopub.execute_input": "2024-12-10T10:22:53.626985Z",
     "iopub.status.busy": "2024-12-10T10:22:53.625905Z",
     "iopub.status.idle": "2024-12-10T10:22:53.641041Z",
     "shell.execute_reply": "2024-12-10T10:22:53.639160Z",
     "shell.execute_reply.started": "2024-12-10T10:22:53.626887Z"
    }
   },
   "source": [
    "接下来，让我们训练模型，经过每一次 epoch 后，可以看到模型的一个学习情况。"
   ]
  },
  {
   "cell_type": "code",
   "execution_count": 8,
   "id": "fa6132f1-7e7f-447c-b462-9def66d3f4a4",
   "metadata": {
    "execution": {
     "iopub.execute_input": "2024-12-11T01:26:10.030322Z",
     "iopub.status.busy": "2024-12-11T01:26:10.029698Z",
     "iopub.status.idle": "2024-12-11T01:27:46.056341Z",
     "shell.execute_reply": "2024-12-11T01:27:46.054884Z",
     "shell.execute_reply.started": "2024-12-11T01:26:10.030265Z"
    }
   },
   "outputs": [
    {
     "name": "stdout",
     "output_type": "stream",
     "text": [
      "Epoch 1\n",
      "-----------------------------------\n",
      "损失: 2.294090 [   64/60000]\n",
      "损失: 2.278678 [ 6464/60000]\n",
      "损失: 2.266753 [12864/60000]\n",
      "损失: 2.267455 [19264/60000]\n",
      "损失: 2.234830 [25664/60000]\n",
      "损失: 2.209408 [32064/60000]\n",
      "损失: 2.212016 [38464/60000]\n",
      "损失: 2.171990 [44864/60000]\n",
      "损失: 2.177907 [51264/60000]\n",
      "损失: 2.150384 [57664/60000]\n",
      "测试错误: \n",
      " 准确度: 47.0%, 平均损失: 2.135348\n",
      "\n",
      "完成!\n",
      "Epoch 2\n",
      "-----------------------------------\n",
      "损失: 2.142908 [   64/60000]\n",
      "损失: 2.126368 [ 6464/60000]\n",
      "损失: 2.070242 [12864/60000]\n",
      "损失: 2.092798 [19264/60000]\n",
      "损失: 2.028975 [25664/60000]\n",
      "损失: 1.970496 [32064/60000]\n",
      "损失: 1.995919 [38464/60000]\n",
      "损失: 1.909347 [44864/60000]\n",
      "损失: 1.919222 [51264/60000]\n",
      "损失: 1.844375 [57664/60000]\n",
      "测试错误: \n",
      " 准确度: 54.2%, 平均损失: 1.840108\n",
      "\n",
      "完成!\n",
      "Epoch 3\n",
      "-----------------------------------\n",
      "损失: 1.877382 [   64/60000]\n",
      "损失: 1.836685 [ 6464/60000]\n",
      "损失: 1.721901 [12864/60000]\n",
      "损失: 1.768942 [19264/60000]\n",
      "损失: 1.651521 [25664/60000]\n",
      "损失: 1.611743 [32064/60000]\n",
      "损失: 1.633813 [38464/60000]\n",
      "损失: 1.537056 [44864/60000]\n",
      "损失: 1.561803 [51264/60000]\n",
      "损失: 1.455080 [57664/60000]\n",
      "测试错误: \n",
      " 准确度: 60.5%, 平均损失: 1.477296\n",
      "\n",
      "完成!\n",
      "Epoch 4\n",
      "-----------------------------------\n",
      "损失: 1.547359 [   64/60000]\n",
      "损失: 1.506952 [ 6464/60000]\n",
      "损失: 1.366279 [12864/60000]\n",
      "损失: 1.440989 [19264/60000]\n",
      "损失: 1.320782 [25664/60000]\n",
      "损失: 1.326864 [32064/60000]\n",
      "损失: 1.337560 [38464/60000]\n",
      "损失: 1.265877 [44864/60000]\n",
      "损失: 1.300789 [51264/60000]\n",
      "损失: 1.200760 [57664/60000]\n",
      "测试错误: \n",
      " 准确度: 63.3%, 平均损失: 1.229446\n",
      "\n",
      "完成!\n",
      "Epoch 5\n",
      "-----------------------------------\n",
      "损失: 1.305330 [   64/60000]\n",
      "损失: 1.282633 [ 6464/60000]\n",
      "损失: 1.127208 [12864/60000]\n",
      "损失: 1.235341 [19264/60000]\n",
      "损失: 1.109275 [25664/60000]\n",
      "损失: 1.143108 [32064/60000]\n",
      "损失: 1.159453 [38464/60000]\n",
      "损失: 1.097380 [44864/60000]\n",
      "损失: 1.140374 [51264/60000]\n",
      "损失: 1.051022 [57664/60000]\n",
      "测试错误: \n",
      " 准确度: 64.5%, 平均损失: 1.075640\n",
      "\n",
      "完成!\n"
     ]
    }
   ],
   "source": [
    "epochs = 5\n",
    "for t in range(epochs):\n",
    "    print(f'Epoch {t + 1}\\n-----------------------------------')\n",
    "    train(train_dataloader, model, loss_fn, optimizer)\n",
    "    test(test_dataloader, model, loss_fn)\n",
    "    print('完成!')"
   ]
  },
  {
   "cell_type": "markdown",
   "id": "44b4a54b-cb4d-4198-820c-a813a210071e",
   "metadata": {},
   "source": [
    "## Saving Models\n",
    "保存模型的常见方法是序列化内部状态字典（包含模型参数）"
   ]
  },
  {
   "cell_type": "code",
   "execution_count": 9,
   "id": "f268d3d9-bdc4-4707-af84-9bde351b28b2",
   "metadata": {
    "execution": {
     "iopub.execute_input": "2024-12-11T01:27:46.058401Z",
     "iopub.status.busy": "2024-12-11T01:27:46.057977Z",
     "iopub.status.idle": "2024-12-11T01:27:46.071343Z",
     "shell.execute_reply": "2024-12-11T01:27:46.070261Z",
     "shell.execute_reply.started": "2024-12-11T01:27:46.058354Z"
    }
   },
   "outputs": [
    {
     "name": "stdout",
     "output_type": "stream",
     "text": [
      "保存模型状态为 model.pth\n"
     ]
    }
   ],
   "source": [
    "torch.save(model.state_dict(), 'model.pth')\n",
    "print('保存模型状态为 model.pth')"
   ]
  },
  {
   "cell_type": "markdown",
   "id": "327b1a17-9578-4a0c-8118-91feb4fbb203",
   "metadata": {},
   "source": [
    "## Loading Models\n",
    "首先重新构建一个初始化状态的模型，然后加载模型的权重，即可恢复到训练后的模型状态。"
   ]
  },
  {
   "cell_type": "code",
   "execution_count": 10,
   "id": "b0b3fbb8-b6fe-42d7-a7c3-2677b356e70b",
   "metadata": {
    "execution": {
     "iopub.execute_input": "2024-12-11T01:27:46.072838Z",
     "iopub.status.busy": "2024-12-11T01:27:46.072476Z",
     "iopub.status.idle": "2024-12-11T01:27:46.101523Z",
     "shell.execute_reply": "2024-12-11T01:27:46.100476Z",
     "shell.execute_reply.started": "2024-12-11T01:27:46.072798Z"
    }
   },
   "outputs": [
    {
     "data": {
      "text/plain": [
       "<All keys matched successfully>"
      ]
     },
     "execution_count": 10,
     "metadata": {},
     "output_type": "execute_result"
    }
   ],
   "source": [
    "model = NeuralNetwork().to(device)\n",
    "model.load_state_dict(torch.load('model.pth', weights_only=True))"
   ]
  },
  {
   "cell_type": "code",
   "execution_count": 11,
   "id": "37106aef-861c-4efd-af85-3b920f1b5bdd",
   "metadata": {
    "execution": {
     "iopub.execute_input": "2024-12-11T01:27:46.103159Z",
     "iopub.status.busy": "2024-12-11T01:27:46.102735Z",
     "iopub.status.idle": "2024-12-11T01:27:46.114747Z",
     "shell.execute_reply": "2024-12-11T01:27:46.113630Z",
     "shell.execute_reply.started": "2024-12-11T01:27:46.103104Z"
    }
   },
   "outputs": [
    {
     "name": "stdout",
     "output_type": "stream",
     "text": [
      "预测: \"Ankle boot\", 实际: \"Ankle boot\"\n"
     ]
    }
   ],
   "source": [
    "classes = [\n",
    "    \"T-shirt/top\",\n",
    "    \"Trouser\",\n",
    "    \"Pullover\",\n",
    "    \"Dress\",\n",
    "    \"Coat\",\n",
    "    \"Sandal\",\n",
    "    \"Shirt\",\n",
    "    \"Sneaker\",\n",
    "    \"Bag\",\n",
    "    \"Ankle boot\",\n",
    "]\n",
    "\n",
    "model.eval() # 评估\n",
    "x, y = test_data[0][0], test_data[0][1]\n",
    "with torch.no_grad():\n",
    "    x = x.to(device)\n",
    "    pred = model(x)\n",
    "    predicted, actual = classes[pred[0].argmax(0)], classes[y]\n",
    "    print(f'预测: \"{predicted}\", 实际: \"{actual}\"')"
   ]
  }
 ],
 "metadata": {
  "kernelspec": {
   "display_name": "Python 3 (ipykernel)",
   "language": "python",
   "name": "python3"
  },
  "language_info": {
   "codemirror_mode": {
    "name": "ipython",
    "version": 3
   },
   "file_extension": ".py",
   "mimetype": "text/x-python",
   "name": "python",
   "nbconvert_exporter": "python",
   "pygments_lexer": "ipython3",
   "version": "3.8.10"
  }
 },
 "nbformat": 4,
 "nbformat_minor": 5
}
